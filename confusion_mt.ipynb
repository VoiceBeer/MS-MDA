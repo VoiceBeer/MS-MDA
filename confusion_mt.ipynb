{
 "metadata": {
  "language_info": {
   "codemirror_mode": {
    "name": "ipython",
    "version": 3
   },
   "file_extension": ".py",
   "mimetype": "text/x-python",
   "name": "python",
   "nbconvert_exporter": "python",
   "pygments_lexer": "ipython3",
   "version": "3.7.6"
  },
  "orig_nbformat": 2,
  "kernelspec": {
   "name": "python376jvsc74a57bd0d869963273628d8cfcd01728e5b0467f5487ccc6bd9396a1d22ba820c5159c1e",
   "display_name": "Python 3.7.6 64-bit ('base': conda)"
  }
 },
 "nbformat": 4,
 "nbformat_minor": 2,
 "cells": [
  {
   "cell_type": "code",
   "execution_count": 2,
   "metadata": {
    "tags": []
   },
   "outputs": [],
   "source": [
    "import numpy as np\n",
    "import seaborn as sns\n",
    "import matplotlib.pyplot as plt\n",
    "from sklearn.manifold import TSNE\n",
    "\n",
    "import argparse\n",
    "import torch\n",
    "import torch.nn.functional as F\n",
    "import torch.nn as nn\n",
    "import numpy as np\n",
    "import copy\n",
    "import random\n",
    "import time\n",
    "import math\n",
    "\n",
    "import utils\n",
    "import models"
   ]
  },
  {
   "cell_type": "code",
   "execution_count": 5,
   "metadata": {},
   "outputs": [
    {
     "output_type": "stream",
     "name": "stdout",
     "text": [
      "BS: 256, epoch: 200\nIteration: 641\n"
     ]
    }
   ],
   "source": [
    "def setup_seed(seed):\n",
    "    torch.manual_seed(seed)\n",
    "    torch.cuda.manual_seed_all(seed)\n",
    "    np.random.seed(seed)\n",
    "    torch.backends.cudnn.deterministic = True\n",
    "setup_seed(10)"
   ]
  },
  {
   "cell_type": "code",
   "execution_count": 4,
   "metadata": {},
   "outputs": [],
   "source": [
    "import utils\n",
    "data, labels = utils.load_data('seed4')\n",
    "source_data, source_label = data[0], labels[0]\n",
    "target_data, target_label = source_data.pop(), source_label.pop()\n",
    "for i in range(len(source_data)):\n",
    "    source_data[i] = utils.norminy(source_data[i])\n",
    "target_data = utils.norminy(target_data)"
   ]
  },
  {
   "cell_type": "code",
   "execution_count": 3,
   "metadata": {},
   "outputs": [],
   "source": [
    "device = torch.device(\"cuda\" if torch.cuda.is_available() else \"cpu\")\n",
    "\n",
    "class DANNet():\n",
    "    def __init__(self, model=models.DAN(), source_loader=0, target_loader=0, batch_size=64, iteration=10000, lr=0.001, momentum=0.9, log_interval=10):\n",
    "        self.model = model \n",
    "        self.model.to(device)\n",
    "        self.source_loader = source_loader\n",
    "        self.target_loader = target_loader \n",
    "        self.batch_size = batch_size\n",
    "        self.iteration = iteration\n",
    "        self.lr = lr\n",
    "        self.momentum = momentum\n",
    "        self.log_interval = log_interval\n",
    "\n",
    "    def __getModel__(self):\n",
    "        return self.model\n",
    "\n",
    "    def train(self):\n",
    "        best_model_wts = copy.deepcopy(self.model.state_dict())\n",
    "        source_iter = iter(self.source_loader)\n",
    "        target_iter = iter(self.target_loader)\n",
    "        correct = 0\n",
    "\n",
    "        for i in range(1, self.iteration+1):\n",
    "            self.model.train()\n",
    "            LEARNING_RATE = self.lr\n",
    "            if (i - 1) % 100 == 0:\n",
    "                print(\"Learning rate: \", LEARNING_RATE)\n",
    "            optimizer = torch.optim.Adam(self.model.parameters(), lr=LEARNING_RATE)\n",
    "            \n",
    "            try:\n",
    "                source_data, source_label = next(source_iter)\n",
    "            except Exception as err:\n",
    "                source_iter = iter(self.source_loader)\n",
    "                source_data, source_label = next(source_iter)\n",
    "            try:\n",
    "                target_data, _ = next(target_iter)\n",
    "            except Exception as err:\n",
    "                target_iter = iter(self.target_loader)\n",
    "                target_data, _ = next(target_iter)\n",
    "            source_data, source_label = source_data.to(device), source_label.to(device)\n",
    "            target_data = target_data.to(device)\n",
    "            \n",
    "            optimizer.zero_grad()\n",
    "            source_prediction, mmd_loss, _ = self.model(source_data, data_tgt=target_data)\n",
    "            cls_loss = F.nll_loss(F.log_softmax(source_prediction, dim=1), source_label.squeeze())\n",
    "            gamma = 2 / (1 + math.exp(-10 * (i) / (iteration))) - 1\n",
    "            loss = cls_loss + gamma * mmd_loss\n",
    "            loss.backward()\n",
    "            optimizer.step()\n",
    "            if i % log_interval == 0:\n",
    "                print('Iter: {} [({:.0f}%)]\\tLoss: {:.6f}\\tsoft_loss: {:.6f}\\tmmd_loss {:.6f}'.format(\n",
    "                    i, 100.*i/self.iteration, loss.item(), cls_loss.item(), mmd_loss.item()\n",
    "                    )\n",
    "                )\n",
    "            if i % (log_interval * 20) == 0:\n",
    "                t_correct = self.test(i)\n",
    "                if t_correct > correct:\n",
    "                    correct = t_correct\n",
    "                best_model_wts = copy.deepcopy(self.model.state_dict())\n",
    "                print('to target max correct: ', correct.item(), \"\\n\")\n",
    "        self.model.load_state_dict(best_model_wts)\n",
    "        return 100. * correct / len(self.target_loader.dataset), self.model\n",
    "\n",
    "    def test(self, i):\n",
    "        self.model.eval()\n",
    "        test_loss = 0\n",
    "        correct = 0\n",
    "        with torch.no_grad():\n",
    "            for data, target in self.target_loader:\n",
    "                data = data.to(device)\n",
    "                target = target.to(device)\n",
    "                preds, mmd_loss, _ = self.model(data, data)\n",
    "                test_loss += F.nll_loss(F.log_softmax(preds, dim=1), target.squeeze(), reduction='sum').item()\n",
    "                pred = preds.data.max(1)[1]\n",
    "                correct += pred.eq(target.data.squeeze()).cpu().sum()\n",
    "            test_loss /= len(self.target_loader.dataset)\n",
    "        return correct\n",
    "\n",
    "class MSMDAER():\n",
    "    def __init__(self, model=models.MSMDAERNet(), source_loaders=0, target_loader=0, batch_size=64, iteration=10000, lr=0.001, momentum=0.9, log_interval=10):\n",
    "        self.model = model\n",
    "        self.model.to(device)\n",
    "        self.source_loaders = source_loaders\n",
    "        self.target_loader = target_loader\n",
    "        self.batch_size = batch_size\n",
    "        self.iteration = iteration\n",
    "        self.lr = lr\n",
    "        self.momentum = momentum\n",
    "        self.log_interval = log_interval\n",
    "\n",
    "    def __getModel__(self):\n",
    "        return self.model\n",
    "\n",
    "    def train(self):\n",
    "        best_model_wts = copy.deepcopy(self.model.state_dict())\n",
    "        source_iters = []\n",
    "        for i in range(len(self.source_loaders)):\n",
    "            source_iters.append(iter(self.source_loaders[i]))\n",
    "        target_iter = iter(self.target_loader)\n",
    "        correct = 0\n",
    "\n",
    "        for i in range(1, self.iteration+1):\n",
    "            self.model.train()\n",
    "            LEARNING_RATE = self.lr\n",
    "            if (i - 1) % 100 == 0:\n",
    "                print(\"Learning rate: \", LEARNING_RATE)\n",
    "            optimizer = torch.optim.Adam(self.model.parameters(), lr=LEARNING_RATE)\n",
    "            \n",
    "            for j in range(len(source_iters)):\n",
    "                try:\n",
    "                    source_data, source_label = next(source_iters[j])\n",
    "                except Exception as err:\n",
    "                    source_iters[j] = iter(self.source_loaders[j])\n",
    "                    source_data, source_label = next(source_iters[j])\n",
    "                try:\n",
    "                    target_data, _ = next(target_iter)\n",
    "                except Exception as err:\n",
    "                    target_iter = iter(self.target_loader)\n",
    "                    target_data, _ = next(target_iter)\n",
    "                source_data, source_label = source_data.to(device), source_label.to(device)\n",
    "                target_data = target_data.to(device)\n",
    "\n",
    "                optimizer.zero_grad()\n",
    "                cls_loss, mmd_loss, l1_loss = self.model(source_data, number_of_source=len(source_iters), data_tgt=target_data, label_src=source_label, mark=j)\n",
    "                gamma = 2 / (1 + math.exp(-10 * (i) / (self.iteration))) - 1\n",
    "                beta = gamma/100\n",
    "                loss = cls_loss + gamma * mmd_loss + beta * l1_loss\n",
    "\n",
    "                loss.backward()\n",
    "                optimizer.step()\n",
    "\n",
    "                if i % log_interval == 0: \n",
    "                    print('Train source' + str(j) + ', iter: {} [({:.0f}%)]\\tLoss: {:.6f}\\tsoft_loss: {:.6f}\\tmmd_loss {:.6f}\\tl1_loss: {:.6f}'.format(i, 100.*i/self.iteration, loss.item(), cls_loss.item(), mmd_loss.item(), l1_loss.item()))\n",
    "\n",
    "            if i % (log_interval * 20) == 0:\n",
    "                t_correct = self.test(i)\n",
    "                if t_correct > correct:\n",
    "                    correct = t_correct\n",
    "                best_model_wts = copy.deepcopy(self.model.state_dict())\n",
    "                print('to target max correct: ', correct.item(), \"\\n\")\n",
    "        self.model.load_state_dict(best_model_wts)\n",
    "        return 100. * correct / len(self.target_loader.dataset), self.model\n",
    "\n",
    "    def test(self, i):\n",
    "        self.model.eval()\n",
    "        test_loss = 0\n",
    "        correct = 0\n",
    "        corrects = []\n",
    "        for i in range(len(self.source_loaders)):\n",
    "            corrects.append(0)\n",
    "        with torch.no_grad():\n",
    "            for data, target in self.target_loader:\n",
    "                data = data.to(device)\n",
    "                target = target.to(device)\n",
    "                preds, _ = self.model(data, len(self.source_loaders))\n",
    "                for i in range(len(preds)):\n",
    "                    preds[i] = F.softmax(preds[i], dim=1)\n",
    "                pred = sum(preds)/len(preds)\n",
    "                test_loss += F.nll_loss(F.log_softmax(pred, dim=1), target.squeeze()).item()\n",
    "                pred = pred.data.max(1)[1]\n",
    "                correct += pred.eq(target.data.squeeze()).cpu().sum()\n",
    "                for j in range(len(self.source_loaders)):\n",
    "                    pred = preds[j].data.max(1)[1]\n",
    "                    corrects[j] += pred.eq(target.data.squeeze()).cpu().sum()\n",
    "            \n",
    "            test_loss /= len(self.target_loader.dataset)\n",
    "        return correct"
   ]
  },
  {
   "cell_type": "code",
   "execution_count": 2,
   "metadata": {},
   "outputs": [],
   "source": [
    "dataset_name = 'seed4'\n",
    "batch_size = 256\n",
    "epoch = 200\n",
    "lr = 0.01\n",
    "\n",
    "trial_total, category_number, _ = utils.get_number_of_label_n_trial(dataset_name=dataset_name)\n",
    "\n",
    "# training settings\n",
    "print('BS: {}, epoch: {}'.format(batch_size, epoch))\n",
    "momentum = 0.9\n",
    "log_interval = 10\n",
    "iteration = 0\n",
    "if dataset_name == 'seed3':\n",
    "    iteration = math.ceil(epoch*3394/batch_size)\n",
    "elif dataset_name == 'seed4':\n",
    "    iteration = math.ceil(epoch*820/batch_size)\n",
    "else:\n",
    "    iteration = 5000\n",
    "print('Iteration: {}'.format(iteration))\n",
    "\n",
    "source_train_data, source_train_label = copy.deepcopy(source_data), copy.deepcopy(source_label)\n",
    "target_train_data, target_train_label = copy.deepcopy(target_data), copy.deepcopy(target_label)\n",
    "\n",
    "# ms-mdaer\n",
    "source_train_loaders = []\n",
    "for j in range(len(source_train_data)):\n",
    "    source_train_loaders.append(torch.utils.data.DataLoader(dataset=utils.CustomDataset(source_train_data[j], source_train_label[j]), batch_size=batch_size, shuffle=True, drop_last=True))\n",
    "target_train_loader = torch.utils.data.DataLoader(dataset=utils.CustomDataset(target_train_data, target_train_label), batch_size=batch_size, shuffle=True, drop_last=True) \n",
    "\n",
    "# dan\n",
    "# source_train_data_comb = source_train_data[0]\n",
    "# source_train_label_comb = source_train_label[0]\n",
    "# for j in range(1, len(source_train_data)):\n",
    "#     source_train_data_comb = np.vstack((source_train_data_comb, source_train_data[j]))\n",
    "#     source_train_label_comb = np.vstack((source_train_label_comb, source_train_label[j]))\n",
    "# source_train_loader = torch.utils.data.DataLoader(dataset=utils.CustomDataset(source_train_data_comb, source_train_label_comb), batch_size=batch_size, shuffle=True, drop_last=True)\n",
    "# target_train_loader = torch.utils.data.DataLoader(dataset=utils.CustomDataset(target_train_data, target_train_label), batch_size=batch_size, shuffle=True, drop_last=True)\n",
    "\n"
   ]
  },
  {
   "cell_type": "code",
   "execution_count": 1,
   "metadata": {},
   "outputs": [],
   "source": [
    "model = MSMDAER(model=models.MSMDAERNet_tsne(pretrained=False, number_of_source=len(source_train_data), number_of_category=category_number), source_loaders=source_train_loaders, target_loader=target_train_loader, batch_size=batch_size, iteration=iteration, lr=lr, momentum=momentum, log_interval=log_interval) \n",
    "\n",
    "# model = DANNet(model=models.DAN_tsne(pretrained=False, number_of_category=category_number), source_loader=source_train_loader, target_loader=target_train_loader, batch_size=batch_size, iteration=iteration, lr=lr, momentum=momentum, log_interval=log_interval)\n",
    "\n",
    "\n",
    "acc, model = model.train()"
   ]
  },
  {
   "cell_type": "code",
   "execution_count": 7,
   "metadata": {},
   "outputs": [],
   "source": [
    "model.eval()\n",
    "model.to(device)\n",
    "# target_data.to(device)\n",
    "# source_data.to(device)\n",
    "\n",
    "# ms-mdaer\n",
    "tsne_source_loaders = []\n",
    "for i in range(len(source_data)):\n",
    "    tsne_source_loaders.append(torch.utils.data.DataLoader(dataset=utils.CustomDataset(source_data[i], source_label[i]), batch_size=len(source_data[i]), shuffle=True, drop_last=True))\n",
    "tsne_target_loader = torch.utils.data.DataLoader(dataset=utils.CustomDataset(target_data, target_label), batch_size=len(target_data), shuffle=True, drop_last=True)\n",
    "\n",
    "# dan\n",
    "# source_data_comb = np.vstack((source_data[0], source_data[1]))\n",
    "# source_label_comb = np.vstack((source_label[0], source_label[1]))\n",
    "# for j in range(2, len(source_data)):\n",
    "#     source_data_comb = np.vstack((source_data_comb, source_data[j]))\n",
    "#     source_label_comb = np.vstack((source_label_comb, source_label[j]))\n",
    "# tsne_source_loader = torch.utils.data.DataLoader(dataset=utils.CustomDataset(source_data_comb, source_data_comb), batch_size=len(source_data_comb), shuffle=True, drop_last=True)\n",
    "# tsne_target_loader = torch.utils.data.DataLoader(dataset=utils.CustomDataset(target_data, target_label), batch_size=len(target_data), shuffle=True, drop_last=True)    \n",
    "\n"
   ]
  },
  {
   "cell_type": "code",
   "execution_count": 8,
   "metadata": {},
   "outputs": [
    {
     "output_type": "stream",
     "name": "stdout",
     "text": [
      "tensor([3, 1, 3, 0, 0, 3, 2, 1, 0, 1, 3, 2, 3, 2, 1, 0, 2, 1, 3, 1, 2, 1, 0, 3,\n        3, 1, 2, 2, 0, 1, 2, 0, 3, 2, 0, 3, 1, 3, 1, 2, 0, 2, 1, 1, 1, 3, 0, 2,\n        3, 3, 2, 1, 1, 3, 2, 3, 2, 1, 0, 0, 1, 1, 3, 0, 3, 3, 2, 3, 0, 0, 0, 3,\n        0, 0, 1, 0, 3, 3, 3, 3, 3, 1, 1, 2, 0, 0, 0, 2, 0, 1, 0, 0, 3, 0, 3, 2,\n        0, 1, 2, 2, 3, 1, 2, 1, 0, 1, 0, 1, 2, 0, 3, 3, 3, 1, 0, 1, 1, 1, 0, 1,\n        0, 0, 2, 1, 3, 0, 3, 1, 2, 1, 2, 1, 0, 2, 1, 1, 1, 3, 1, 1, 1, 1, 0, 0,\n        1, 1, 2, 2, 3, 0, 1, 3, 3, 1, 3, 1, 3, 2, 3, 0, 3, 1, 3, 1, 3, 1, 1, 3,\n        0, 2, 2, 3, 3, 2, 2, 1, 1, 0, 1, 3, 2, 0, 1, 1, 2, 0, 1, 1, 1, 2, 1, 1,\n        1, 3, 2, 0, 3, 3, 2, 2, 0, 3, 0, 1, 0, 2, 0, 1, 2, 2, 3, 2, 0, 0, 1, 1,\n        0, 0, 0, 1, 2, 2, 1, 2, 3, 3, 3, 2, 1, 2, 1, 0, 0, 1, 2, 0, 3, 0, 1, 1,\n        2, 3, 0, 0, 2, 2, 3, 2, 0, 0, 1, 0, 3, 3, 2, 2, 3, 1, 0, 2, 3, 0, 1, 3,\n        0, 1, 3, 1, 1, 1, 2, 1, 3, 0, 0, 2, 1, 0, 2, 2, 1, 1, 1, 1, 1, 0, 2, 3,\n        0, 1, 0, 2, 3, 3, 0, 0, 1, 2, 3, 0, 3, 2, 1, 1, 3, 0, 2, 1, 1, 3, 2, 2,\n        1, 3, 1, 3, 3, 2, 3, 3, 1, 2, 0, 3, 1, 0, 0, 2, 2, 3, 0, 0, 1, 2, 0, 1,\n        0, 1, 1, 3, 0, 1, 1, 2, 1, 2, 2, 2, 3, 3, 0, 1, 1, 1, 0, 0, 3, 1, 3, 0,\n        3, 0, 0, 0, 3, 3, 1, 1, 3, 0, 1, 0, 2, 3, 1, 1, 2, 1, 0, 1, 0, 1, 2, 0,\n        0, 2, 0, 1, 1, 3, 1, 3, 2, 0, 1, 1, 2, 0, 3, 1, 2, 3, 3, 3, 2, 1, 1, 0,\n        2, 0, 3, 2, 2, 0, 3, 1, 0, 2, 3, 2, 1, 1, 2, 0, 0, 2, 0, 3, 1, 0, 0, 2,\n        1, 0, 3, 1, 3, 1, 1, 2, 1, 3, 3, 0, 0, 2, 2, 1, 0, 1, 1, 0, 0, 0, 3, 3,\n        2, 0, 1, 1, 3, 0, 1, 3, 1, 1, 0, 0, 0, 1, 0, 2, 0, 1, 1, 1, 0, 1, 2, 3,\n        2, 1, 2, 3, 0, 1, 2, 2, 2, 1, 2, 1, 1, 3, 2, 3, 1, 3, 0, 2, 0, 2, 3, 2,\n        2, 2, 1, 2, 0, 1, 0, 0, 2, 3, 2, 1, 2, 1, 3, 2, 1, 3, 3, 1, 1, 0, 3, 1,\n        0, 2, 0, 1, 2, 1, 2, 1, 0, 0, 0, 2, 3, 2, 3, 1, 0, 0, 2, 3, 0, 2, 3, 1,\n        2, 2, 3, 3, 0, 3, 0, 2, 1, 3, 3, 0, 2, 3, 3, 0, 2, 1, 2, 2, 0, 3, 1, 3,\n        3, 1, 1, 3, 0, 2, 0, 0, 1, 0, 3, 3, 1, 0, 0, 0, 0, 3, 2, 2, 3, 0, 1, 0,\n        1, 0, 2, 3, 1, 1, 3, 3, 3, 1, 0, 3, 0, 1, 1, 0, 3, 3, 1, 2, 2, 3, 0, 2,\n        3, 3, 1, 1, 1, 3, 3, 2, 3, 1, 0, 2, 3, 1, 3, 1, 1, 2, 1, 0, 0, 3, 0, 1,\n        1, 2, 1, 3, 3, 2, 0, 2, 1, 2, 1, 0, 3, 1, 2, 1, 0, 2, 1, 0, 0, 3, 3, 1,\n        1, 1, 1, 0, 0, 1, 0, 2, 2, 1, 0, 3, 0, 1, 1, 1, 3, 2, 0, 0, 2, 2, 1, 2,\n        1, 3, 1, 3, 1, 0, 2, 0, 1, 3, 1, 2, 3, 1, 2, 2, 1, 0, 0, 2, 1, 2, 2, 0,\n        1, 1, 1, 0, 0, 2, 2, 1, 0, 3, 0, 0, 1, 1, 2, 1, 0, 1, 1, 2, 0, 1, 1, 1,\n        3, 3, 3, 3, 2, 2, 0, 0, 3, 3, 0, 0, 3, 3, 3, 3, 1, 3, 0, 2, 3, 3, 2, 1,\n        1, 0, 3, 0, 0, 1, 1, 1, 3, 2, 3, 0, 0, 1, 0, 1, 1, 1, 1, 2, 1, 2, 0, 0,\n        0, 1, 2, 1, 1, 0, 2, 1, 0, 3, 2, 1, 0, 0, 2, 3, 2, 2, 3, 3, 1, 0, 3, 0,\n        2, 0, 1, 1, 3, 0, 0, 0, 2, 0, 1, 3, 0, 1, 1, 1, 1, 3, 0, 2, 1, 1, 2, 3,\n        1, 1, 3, 0, 2, 0, 0, 1, 1, 2, 3])\n[[217   0   0   0]\n [  0  96 136  27]\n [  0  96  22  64]\n [  0   0  24 169]]\n"
     ]
    }
   ],
   "source": [
    "from sklearn.metrics import confusion_matrix\n",
    "\n",
    "correct = 0\n",
    "\n",
    "for data, target in tsne_target_loader:\n",
    "    data = data.to(device)\n",
    "    target = target.to(device)\n",
    "    preds, _ = model(data, 14)\n",
    "    for i in range(len(preds)):\n",
    "        preds[i] = F.softmax(preds[i], dim=1)\n",
    "    pred = sum(preds)/len(preds)\n",
    "    pred = pred.data.max(1)[1]\n",
    "    print(target.data.squeeze().cpu())\n",
    "    print(confusion_matrix(target.data.squeeze().cpu(), pred.cpu()))"
   ]
  },
  {
   "cell_type": "code",
   "execution_count": 9,
   "metadata": {},
   "outputs": [],
   "source": [
    "ary = target.data.squeeze().cpu().numpy()"
   ]
  },
  {
   "cell_type": "code",
   "execution_count": 10,
   "metadata": {},
   "outputs": [
    {
     "output_type": "stream",
     "name": "stdout",
     "text": [
      "217\n"
     ]
    }
   ],
   "source": [
    "print(np.sum(ary==0)) # seed: 0 negative, 1 neutral 2 positive\n",
    "# seed4: 0 neutral, 1 sad, 2 fear, 3 happy"
   ]
  },
  {
   "cell_type": "code",
   "execution_count": 11,
   "metadata": {},
   "outputs": [
    {
     "output_type": "stream",
     "name": "stdout",
     "text": [
      "259\n"
     ]
    }
   ],
   "source": [
    "print(np.sum(ary==1))"
   ]
  },
  {
   "cell_type": "code",
   "execution_count": 12,
   "metadata": {},
   "outputs": [
    {
     "output_type": "stream",
     "name": "stdout",
     "text": [
      "182\n"
     ]
    }
   ],
   "source": [
    "print(np.sum(ary==2))"
   ]
  },
  {
   "cell_type": "code",
   "execution_count": 14,
   "metadata": {},
   "outputs": [
    {
     "output_type": "display_data",
     "data": {
      "text/plain": "<Figure size 720x504 with 2 Axes>",
      "image/svg+xml": "<?xml version=\"1.0\" encoding=\"utf-8\" standalone=\"no\"?>\n<!DOCTYPE svg PUBLIC \"-//W3C//DTD SVG 1.1//EN\"\n  \"http://www.w3.org/Graphics/SVG/1.1/DTD/svg11.dtd\">\n<!-- Created with matplotlib (https://matplotlib.org/) -->\n<svg height=\"419.324312pt\" version=\"1.1\" viewBox=\"0 0 580.823313 419.324312\" width=\"580.823313pt\" xmlns=\"http://www.w3.org/2000/svg\" xmlns:xlink=\"http://www.w3.org/1999/xlink\">\n <defs>\n  <style type=\"text/css\">\n*{stroke-linecap:butt;stroke-linejoin:round;}\n  </style>\n </defs>\n <g id=\"figure_1\">\n  <g id=\"patch_1\">\n   <path d=\"M 0 419.324312 \nL 580.823313 419.324312 \nL 580.823313 0 \nL 0 0 \nz\n\" style=\"fill:#ffffff;\"/>\n  </g>\n  <g id=\"axes_1\">\n   <g id=\"patch_2\">\n    <path d=\"M 31.604313 387.72 \nL 478.004313 387.72 \nL 478.004313 7.2 \nL 31.604313 7.2 \nz\n\" style=\"fill:#eaeaf2;\"/>\n   </g>\n   <g id=\"matplotlib.axis_1\">\n    <g id=\"xtick_1\">\n     <g id=\"text_1\">\n      <!-- negative -->\n      <defs>\n       <path d=\"M 54.890625 33.015625 \nL 54.890625 0 \nL 45.90625 0 \nL 45.90625 32.71875 \nQ 45.90625 40.484375 42.875 44.328125 \nQ 39.84375 48.1875 33.796875 48.1875 \nQ 26.515625 48.1875 22.3125 43.546875 \nQ 18.109375 38.921875 18.109375 30.90625 \nL 18.109375 0 \nL 9.078125 0 \nL 9.078125 54.6875 \nL 18.109375 54.6875 \nL 18.109375 46.1875 \nQ 21.34375 51.125 25.703125 53.5625 \nQ 30.078125 56 35.796875 56 \nQ 45.21875 56 50.046875 50.171875 \nQ 54.890625 44.34375 54.890625 33.015625 \nz\n\" id=\"DejaVuSans-110\"/>\n       <path d=\"M 56.203125 29.59375 \nL 56.203125 25.203125 \nL 14.890625 25.203125 \nQ 15.484375 15.921875 20.484375 11.0625 \nQ 25.484375 6.203125 34.421875 6.203125 \nQ 39.59375 6.203125 44.453125 7.46875 \nQ 49.3125 8.734375 54.109375 11.28125 \nL 54.109375 2.78125 \nQ 49.265625 0.734375 44.1875 -0.34375 \nQ 39.109375 -1.421875 33.890625 -1.421875 \nQ 20.796875 -1.421875 13.15625 6.1875 \nQ 5.515625 13.8125 5.515625 26.8125 \nQ 5.515625 40.234375 12.765625 48.109375 \nQ 20.015625 56 32.328125 56 \nQ 43.359375 56 49.78125 48.890625 \nQ 56.203125 41.796875 56.203125 29.59375 \nz\nM 47.21875 32.234375 \nQ 47.125 39.59375 43.09375 43.984375 \nQ 39.0625 48.390625 32.421875 48.390625 \nQ 24.90625 48.390625 20.390625 44.140625 \nQ 15.875 39.890625 15.1875 32.171875 \nz\n\" id=\"DejaVuSans-101\"/>\n       <path d=\"M 45.40625 27.984375 \nQ 45.40625 37.75 41.375 43.109375 \nQ 37.359375 48.484375 30.078125 48.484375 \nQ 22.859375 48.484375 18.828125 43.109375 \nQ 14.796875 37.75 14.796875 27.984375 \nQ 14.796875 18.265625 18.828125 12.890625 \nQ 22.859375 7.515625 30.078125 7.515625 \nQ 37.359375 7.515625 41.375 12.890625 \nQ 45.40625 18.265625 45.40625 27.984375 \nz\nM 54.390625 6.78125 \nQ 54.390625 -7.171875 48.1875 -13.984375 \nQ 42 -20.796875 29.203125 -20.796875 \nQ 24.46875 -20.796875 20.265625 -20.09375 \nQ 16.0625 -19.390625 12.109375 -17.921875 \nL 12.109375 -9.1875 \nQ 16.0625 -11.328125 19.921875 -12.34375 \nQ 23.78125 -13.375 27.78125 -13.375 \nQ 36.625 -13.375 41.015625 -8.765625 \nQ 45.40625 -4.15625 45.40625 5.171875 \nL 45.40625 9.625 \nQ 42.625 4.78125 38.28125 2.390625 \nQ 33.9375 0 27.875 0 \nQ 17.828125 0 11.671875 7.65625 \nQ 5.515625 15.328125 5.515625 27.984375 \nQ 5.515625 40.671875 11.671875 48.328125 \nQ 17.828125 56 27.875 56 \nQ 33.9375 56 38.28125 53.609375 \nQ 42.625 51.21875 45.40625 46.390625 \nL 45.40625 54.6875 \nL 54.390625 54.6875 \nz\n\" id=\"DejaVuSans-103\"/>\n       <path d=\"M 34.28125 27.484375 \nQ 23.390625 27.484375 19.1875 25 \nQ 14.984375 22.515625 14.984375 16.5 \nQ 14.984375 11.71875 18.140625 8.90625 \nQ 21.296875 6.109375 26.703125 6.109375 \nQ 34.1875 6.109375 38.703125 11.40625 \nQ 43.21875 16.703125 43.21875 25.484375 \nL 43.21875 27.484375 \nz\nM 52.203125 31.203125 \nL 52.203125 0 \nL 43.21875 0 \nL 43.21875 8.296875 \nQ 40.140625 3.328125 35.546875 0.953125 \nQ 30.953125 -1.421875 24.3125 -1.421875 \nQ 15.921875 -1.421875 10.953125 3.296875 \nQ 6 8.015625 6 15.921875 \nQ 6 25.140625 12.171875 29.828125 \nQ 18.359375 34.515625 30.609375 34.515625 \nL 43.21875 34.515625 \nL 43.21875 35.40625 \nQ 43.21875 41.609375 39.140625 45 \nQ 35.0625 48.390625 27.6875 48.390625 \nQ 23 48.390625 18.546875 47.265625 \nQ 14.109375 46.140625 10.015625 43.890625 \nL 10.015625 52.203125 \nQ 14.9375 54.109375 19.578125 55.046875 \nQ 24.21875 56 28.609375 56 \nQ 40.484375 56 46.34375 49.84375 \nQ 52.203125 43.703125 52.203125 31.203125 \nz\n\" id=\"DejaVuSans-97\"/>\n       <path d=\"M 18.3125 70.21875 \nL 18.3125 54.6875 \nL 36.8125 54.6875 \nL 36.8125 47.703125 \nL 18.3125 47.703125 \nL 18.3125 18.015625 \nQ 18.3125 11.328125 20.140625 9.421875 \nQ 21.96875 7.515625 27.59375 7.515625 \nL 36.8125 7.515625 \nL 36.8125 0 \nL 27.59375 0 \nQ 17.1875 0 13.234375 3.875 \nQ 9.28125 7.765625 9.28125 18.015625 \nL 9.28125 47.703125 \nL 2.6875 47.703125 \nL 2.6875 54.6875 \nL 9.28125 54.6875 \nL 9.28125 70.21875 \nz\n\" id=\"DejaVuSans-116\"/>\n       <path d=\"M 9.421875 54.6875 \nL 18.40625 54.6875 \nL 18.40625 0 \nL 9.421875 0 \nz\nM 9.421875 75.984375 \nL 18.40625 75.984375 \nL 18.40625 64.59375 \nL 9.421875 64.59375 \nz\n\" id=\"DejaVuSans-105\"/>\n       <path d=\"M 2.984375 54.6875 \nL 12.5 54.6875 \nL 29.59375 8.796875 \nL 46.6875 54.6875 \nL 56.203125 54.6875 \nL 35.6875 0 \nL 23.484375 0 \nz\n\" id=\"DejaVuSans-118\"/>\n      </defs>\n      <g style=\"fill:#262626;\" transform=\"translate(72.326438 408.921594)scale(0.154 -0.154)\">\n       <use xlink:href=\"#DejaVuSans-110\"/>\n       <use x=\"63.378906\" xlink:href=\"#DejaVuSans-101\"/>\n       <use x=\"124.902344\" xlink:href=\"#DejaVuSans-103\"/>\n       <use x=\"188.378906\" xlink:href=\"#DejaVuSans-97\"/>\n       <use x=\"249.658203\" xlink:href=\"#DejaVuSans-116\"/>\n       <use x=\"288.867188\" xlink:href=\"#DejaVuSans-105\"/>\n       <use x=\"316.650391\" xlink:href=\"#DejaVuSans-118\"/>\n       <use x=\"375.830078\" xlink:href=\"#DejaVuSans-101\"/>\n      </g>\n     </g>\n    </g>\n    <g id=\"xtick_2\">\n     <g id=\"text_2\">\n      <!-- neutral -->\n      <defs>\n       <path d=\"M 8.5 21.578125 \nL 8.5 54.6875 \nL 17.484375 54.6875 \nL 17.484375 21.921875 \nQ 17.484375 14.15625 20.5 10.265625 \nQ 23.53125 6.390625 29.59375 6.390625 \nQ 36.859375 6.390625 41.078125 11.03125 \nQ 45.3125 15.671875 45.3125 23.6875 \nL 45.3125 54.6875 \nL 54.296875 54.6875 \nL 54.296875 0 \nL 45.3125 0 \nL 45.3125 8.40625 \nQ 42.046875 3.421875 37.71875 1 \nQ 33.40625 -1.421875 27.6875 -1.421875 \nQ 18.265625 -1.421875 13.375 4.4375 \nQ 8.5 10.296875 8.5 21.578125 \nz\nM 31.109375 56 \nz\n\" id=\"DejaVuSans-117\"/>\n       <path d=\"M 41.109375 46.296875 \nQ 39.59375 47.171875 37.8125 47.578125 \nQ 36.03125 48 33.890625 48 \nQ 26.265625 48 22.1875 43.046875 \nQ 18.109375 38.09375 18.109375 28.8125 \nL 18.109375 0 \nL 9.078125 0 \nL 9.078125 54.6875 \nL 18.109375 54.6875 \nL 18.109375 46.1875 \nQ 20.953125 51.171875 25.484375 53.578125 \nQ 30.03125 56 36.53125 56 \nQ 37.453125 56 38.578125 55.875 \nQ 39.703125 55.765625 41.0625 55.515625 \nz\n\" id=\"DejaVuSans-114\"/>\n       <path d=\"M 9.421875 75.984375 \nL 18.40625 75.984375 \nL 18.40625 0 \nL 9.421875 0 \nz\n\" id=\"DejaVuSans-108\"/>\n      </defs>\n      <g style=\"fill:#262626;\" transform=\"translate(227.264781 408.921594)scale(0.154 -0.154)\">\n       <use xlink:href=\"#DejaVuSans-110\"/>\n       <use x=\"63.378906\" xlink:href=\"#DejaVuSans-101\"/>\n       <use x=\"124.902344\" xlink:href=\"#DejaVuSans-117\"/>\n       <use x=\"188.28125\" xlink:href=\"#DejaVuSans-116\"/>\n       <use x=\"227.490234\" xlink:href=\"#DejaVuSans-114\"/>\n       <use x=\"268.603516\" xlink:href=\"#DejaVuSans-97\"/>\n       <use x=\"329.882812\" xlink:href=\"#DejaVuSans-108\"/>\n      </g>\n     </g>\n    </g>\n    <g id=\"xtick_3\">\n     <g id=\"text_3\">\n      <!-- positive -->\n      <defs>\n       <path d=\"M 18.109375 8.203125 \nL 18.109375 -20.796875 \nL 9.078125 -20.796875 \nL 9.078125 54.6875 \nL 18.109375 54.6875 \nL 18.109375 46.390625 \nQ 20.953125 51.265625 25.265625 53.625 \nQ 29.59375 56 35.59375 56 \nQ 45.5625 56 51.78125 48.09375 \nQ 58.015625 40.1875 58.015625 27.296875 \nQ 58.015625 14.40625 51.78125 6.484375 \nQ 45.5625 -1.421875 35.59375 -1.421875 \nQ 29.59375 -1.421875 25.265625 0.953125 \nQ 20.953125 3.328125 18.109375 8.203125 \nz\nM 48.6875 27.296875 \nQ 48.6875 37.203125 44.609375 42.84375 \nQ 40.53125 48.484375 33.40625 48.484375 \nQ 26.265625 48.484375 22.1875 42.84375 \nQ 18.109375 37.203125 18.109375 27.296875 \nQ 18.109375 17.390625 22.1875 11.75 \nQ 26.265625 6.109375 33.40625 6.109375 \nQ 40.53125 6.109375 44.609375 11.75 \nQ 48.6875 17.390625 48.6875 27.296875 \nz\n\" id=\"DejaVuSans-112\"/>\n       <path d=\"M 30.609375 48.390625 \nQ 23.390625 48.390625 19.1875 42.75 \nQ 14.984375 37.109375 14.984375 27.296875 \nQ 14.984375 17.484375 19.15625 11.84375 \nQ 23.34375 6.203125 30.609375 6.203125 \nQ 37.796875 6.203125 41.984375 11.859375 \nQ 46.1875 17.53125 46.1875 27.296875 \nQ 46.1875 37.015625 41.984375 42.703125 \nQ 37.796875 48.390625 30.609375 48.390625 \nz\nM 30.609375 56 \nQ 42.328125 56 49.015625 48.375 \nQ 55.71875 40.765625 55.71875 27.296875 \nQ 55.71875 13.875 49.015625 6.21875 \nQ 42.328125 -1.421875 30.609375 -1.421875 \nQ 18.84375 -1.421875 12.171875 6.21875 \nQ 5.515625 13.875 5.515625 27.296875 \nQ 5.515625 40.765625 12.171875 48.375 \nQ 18.84375 56 30.609375 56 \nz\n\" id=\"DejaVuSans-111\"/>\n       <path d=\"M 44.28125 53.078125 \nL 44.28125 44.578125 \nQ 40.484375 46.53125 36.375 47.5 \nQ 32.28125 48.484375 27.875 48.484375 \nQ 21.1875 48.484375 17.84375 46.4375 \nQ 14.5 44.390625 14.5 40.28125 \nQ 14.5 37.15625 16.890625 35.375 \nQ 19.28125 33.59375 26.515625 31.984375 \nL 29.59375 31.296875 \nQ 39.15625 29.25 43.1875 25.515625 \nQ 47.21875 21.78125 47.21875 15.09375 \nQ 47.21875 7.46875 41.1875 3.015625 \nQ 35.15625 -1.421875 24.609375 -1.421875 \nQ 20.21875 -1.421875 15.453125 -0.5625 \nQ 10.6875 0.296875 5.421875 2 \nL 5.421875 11.28125 \nQ 10.40625 8.6875 15.234375 7.390625 \nQ 20.0625 6.109375 24.8125 6.109375 \nQ 31.15625 6.109375 34.5625 8.28125 \nQ 37.984375 10.453125 37.984375 14.40625 \nQ 37.984375 18.0625 35.515625 20.015625 \nQ 33.0625 21.96875 24.703125 23.78125 \nL 21.578125 24.515625 \nQ 13.234375 26.265625 9.515625 29.90625 \nQ 5.8125 33.546875 5.8125 39.890625 \nQ 5.8125 47.609375 11.28125 51.796875 \nQ 16.75 56 26.8125 56 \nQ 31.78125 56 36.171875 55.265625 \nQ 40.578125 54.546875 44.28125 53.078125 \nz\n\" id=\"DejaVuSans-115\"/>\n      </defs>\n      <g style=\"fill:#262626;\" transform=\"translate(373.401062 408.921594)scale(0.154 -0.154)\">\n       <use xlink:href=\"#DejaVuSans-112\"/>\n       <use x=\"63.476562\" xlink:href=\"#DejaVuSans-111\"/>\n       <use x=\"124.658203\" xlink:href=\"#DejaVuSans-115\"/>\n       <use x=\"176.757812\" xlink:href=\"#DejaVuSans-105\"/>\n       <use x=\"204.541016\" xlink:href=\"#DejaVuSans-116\"/>\n       <use x=\"243.75\" xlink:href=\"#DejaVuSans-105\"/>\n       <use x=\"271.533203\" xlink:href=\"#DejaVuSans-118\"/>\n       <use x=\"330.712891\" xlink:href=\"#DejaVuSans-101\"/>\n      </g>\n     </g>\n    </g>\n   </g>\n   <g id=\"matplotlib.axis_2\">\n    <g id=\"ytick_1\">\n     <g id=\"text_4\">\n      <!-- negative -->\n      <g style=\"fill:#262626;\" transform=\"translate(18.901594 132.124953)rotate(-90)scale(0.154 -0.154)\">\n       <use xlink:href=\"#DejaVuSans-110\"/>\n       <use x=\"63.378906\" xlink:href=\"#DejaVuSans-101\"/>\n       <use x=\"124.902344\" xlink:href=\"#DejaVuSans-103\"/>\n       <use x=\"188.378906\" xlink:href=\"#DejaVuSans-97\"/>\n       <use x=\"249.658203\" xlink:href=\"#DejaVuSans-116\"/>\n       <use x=\"288.867188\" xlink:href=\"#DejaVuSans-105\"/>\n       <use x=\"316.650391\" xlink:href=\"#DejaVuSans-118\"/>\n       <use x=\"375.830078\" xlink:href=\"#DejaVuSans-101\"/>\n      </g>\n     </g>\n    </g>\n    <g id=\"ytick_2\">\n     <g id=\"text_5\">\n      <!-- neutral -->\n      <g style=\"fill:#262626;\" transform=\"translate(18.901594 246.688266)rotate(-90)scale(0.154 -0.154)\">\n       <use xlink:href=\"#DejaVuSans-110\"/>\n       <use x=\"63.378906\" xlink:href=\"#DejaVuSans-101\"/>\n       <use x=\"124.902344\" xlink:href=\"#DejaVuSans-117\"/>\n       <use x=\"188.28125\" xlink:href=\"#DejaVuSans-116\"/>\n       <use x=\"227.490234\" xlink:href=\"#DejaVuSans-114\"/>\n       <use x=\"268.603516\" xlink:href=\"#DejaVuSans-97\"/>\n       <use x=\"329.882812\" xlink:href=\"#DejaVuSans-108\"/>\n      </g>\n     </g>\n    </g>\n    <g id=\"ytick_3\">\n     <g id=\"text_6\">\n      <!-- positive -->\n      <g style=\"fill:#262626;\" transform=\"translate(18.901594 378.855703)rotate(-90)scale(0.154 -0.154)\">\n       <use xlink:href=\"#DejaVuSans-112\"/>\n       <use x=\"63.476562\" xlink:href=\"#DejaVuSans-111\"/>\n       <use x=\"124.658203\" xlink:href=\"#DejaVuSans-115\"/>\n       <use x=\"176.757812\" xlink:href=\"#DejaVuSans-105\"/>\n       <use x=\"204.541016\" xlink:href=\"#DejaVuSans-116\"/>\n       <use x=\"243.75\" xlink:href=\"#DejaVuSans-105\"/>\n       <use x=\"271.533203\" xlink:href=\"#DejaVuSans-118\"/>\n       <use x=\"330.712891\" xlink:href=\"#DejaVuSans-101\"/>\n      </g>\n     </g>\n    </g>\n   </g>\n   <g id=\"QuadMesh_1\">\n    <path clip-path=\"url(#pbd0c6503f7)\" d=\"M 31.604313 7.2 \nL 180.404313 7.2 \nL 180.404313 134.04 \nL 31.604313 134.04 \nL 31.604313 7.2 \n\" style=\"fill:#6d8bbd;\"/>\n    <path clip-path=\"url(#pbd0c6503f7)\" d=\"M 180.404313 7.2 \nL 329.204313 7.2 \nL 329.204313 134.04 \nL 180.404313 134.04 \nL 180.404313 7.2 \n\" style=\"fill:#f0f1f2;\"/>\n    <path clip-path=\"url(#pbd0c6503f7)\" d=\"M 329.204313 7.2 \nL 478.004313 7.2 \nL 478.004313 134.04 \nL 329.204313 134.04 \nL 329.204313 7.2 \n\" style=\"fill:#f0f1f2;\"/>\n    <path clip-path=\"url(#pbd0c6503f7)\" d=\"M 31.604313 134.04 \nL 180.404313 134.04 \nL 180.404313 260.88 \nL 31.604313 260.88 \nL 31.604313 134.04 \n\" style=\"fill:#f0f1f2;\"/>\n    <path clip-path=\"url(#pbd0c6503f7)\" d=\"M 180.404313 134.04 \nL 329.204313 134.04 \nL 329.204313 260.88 \nL 180.404313 260.88 \nL 180.404313 134.04 \n\" style=\"fill:#6d8bbd;\"/>\n    <path clip-path=\"url(#pbd0c6503f7)\" d=\"M 329.204313 134.04 \nL 478.004313 134.04 \nL 478.004313 260.88 \nL 329.204313 260.88 \nL 329.204313 134.04 \n\" style=\"fill:#f0f1f2;\"/>\n    <path clip-path=\"url(#pbd0c6503f7)\" d=\"M 31.604313 260.88 \nL 180.404313 260.88 \nL 180.404313 387.72 \nL 31.604313 387.72 \nL 31.604313 260.88 \n\" style=\"fill:#f0f1f2;\"/>\n    <path clip-path=\"url(#pbd0c6503f7)\" d=\"M 180.404313 260.88 \nL 329.204313 260.88 \nL 329.204313 387.72 \nL 180.404313 387.72 \nL 180.404313 260.88 \n\" style=\"fill:#f0f1f2;\"/>\n    <path clip-path=\"url(#pbd0c6503f7)\" d=\"M 329.204313 260.88 \nL 478.004313 260.88 \nL 478.004313 387.72 \nL 329.204313 387.72 \nL 329.204313 260.88 \n\" style=\"fill:#4c72b0;\"/>\n   </g>\n   <g id=\"text_7\">\n    <!-- 791 -->\n    <defs>\n     <path d=\"M 8.203125 72.90625 \nL 55.078125 72.90625 \nL 55.078125 68.703125 \nL 28.609375 0 \nL 18.3125 0 \nL 43.21875 64.59375 \nL 8.203125 64.59375 \nz\n\" id=\"DejaVuSans-55\"/>\n     <path d=\"M 10.984375 1.515625 \nL 10.984375 10.5 \nQ 14.703125 8.734375 18.5 7.8125 \nQ 22.3125 6.890625 25.984375 6.890625 \nQ 35.75 6.890625 40.890625 13.453125 \nQ 46.046875 20.015625 46.78125 33.40625 \nQ 43.953125 29.203125 39.59375 26.953125 \nQ 35.25 24.703125 29.984375 24.703125 \nQ 19.046875 24.703125 12.671875 31.3125 \nQ 6.296875 37.9375 6.296875 49.421875 \nQ 6.296875 60.640625 12.9375 67.421875 \nQ 19.578125 74.21875 30.609375 74.21875 \nQ 43.265625 74.21875 49.921875 64.515625 \nQ 56.59375 54.828125 56.59375 36.375 \nQ 56.59375 19.140625 48.40625 8.859375 \nQ 40.234375 -1.421875 26.421875 -1.421875 \nQ 22.703125 -1.421875 18.890625 -0.6875 \nQ 15.09375 0.046875 10.984375 1.515625 \nz\nM 30.609375 32.421875 \nQ 37.25 32.421875 41.125 36.953125 \nQ 45.015625 41.5 45.015625 49.421875 \nQ 45.015625 57.28125 41.125 61.84375 \nQ 37.25 66.40625 30.609375 66.40625 \nQ 23.96875 66.40625 20.09375 61.84375 \nQ 16.21875 57.28125 16.21875 49.421875 \nQ 16.21875 41.5 20.09375 36.953125 \nQ 23.96875 32.421875 30.609375 32.421875 \nz\n\" id=\"DejaVuSans-57\"/>\n     <path d=\"M 12.40625 8.296875 \nL 28.515625 8.296875 \nL 28.515625 63.921875 \nL 10.984375 60.40625 \nL 10.984375 69.390625 \nL 28.421875 72.90625 \nL 38.28125 72.90625 \nL 38.28125 8.296875 \nL 54.390625 8.296875 \nL 54.390625 0 \nL 12.40625 0 \nz\n\" id=\"DejaVuSans-49\"/>\n    </defs>\n    <g style=\"fill:#ffffff;\" transform=\"translate(90.734313 75.035)scale(0.16 -0.16)\">\n     <use xlink:href=\"#DejaVuSans-55\"/>\n     <use x=\"63.623047\" xlink:href=\"#DejaVuSans-57\"/>\n     <use x=\"127.246094\" xlink:href=\"#DejaVuSans-49\"/>\n    </g>\n   </g>\n   <g id=\"text_8\">\n    <!-- 176 -->\n    <defs>\n     <path d=\"M 33.015625 40.375 \nQ 26.375 40.375 22.484375 35.828125 \nQ 18.609375 31.296875 18.609375 23.390625 \nQ 18.609375 15.53125 22.484375 10.953125 \nQ 26.375 6.390625 33.015625 6.390625 \nQ 39.65625 6.390625 43.53125 10.953125 \nQ 47.40625 15.53125 47.40625 23.390625 \nQ 47.40625 31.296875 43.53125 35.828125 \nQ 39.65625 40.375 33.015625 40.375 \nz\nM 52.59375 71.296875 \nL 52.59375 62.3125 \nQ 48.875 64.0625 45.09375 64.984375 \nQ 41.3125 65.921875 37.59375 65.921875 \nQ 27.828125 65.921875 22.671875 59.328125 \nQ 17.53125 52.734375 16.796875 39.40625 \nQ 19.671875 43.65625 24.015625 45.921875 \nQ 28.375 48.1875 33.59375 48.1875 \nQ 44.578125 48.1875 50.953125 41.515625 \nQ 57.328125 34.859375 57.328125 23.390625 \nQ 57.328125 12.15625 50.6875 5.359375 \nQ 44.046875 -1.421875 33.015625 -1.421875 \nQ 20.359375 -1.421875 13.671875 8.265625 \nQ 6.984375 17.96875 6.984375 36.375 \nQ 6.984375 53.65625 15.1875 63.9375 \nQ 23.390625 74.21875 37.203125 74.21875 \nQ 40.921875 74.21875 44.703125 73.484375 \nQ 48.484375 72.75 52.59375 71.296875 \nz\n\" id=\"DejaVuSans-54\"/>\n    </defs>\n    <g style=\"fill:#262626;\" transform=\"translate(239.534313 75.035)scale(0.16 -0.16)\">\n     <use xlink:href=\"#DejaVuSans-49\"/>\n     <use x=\"63.623047\" xlink:href=\"#DejaVuSans-55\"/>\n     <use x=\"127.246094\" xlink:href=\"#DejaVuSans-54\"/>\n    </g>\n   </g>\n   <g id=\"text_9\">\n    <!-- 153 -->\n    <defs>\n     <path d=\"M 10.796875 72.90625 \nL 49.515625 72.90625 \nL 49.515625 64.59375 \nL 19.828125 64.59375 \nL 19.828125 46.734375 \nQ 21.96875 47.46875 24.109375 47.828125 \nQ 26.265625 48.1875 28.421875 48.1875 \nQ 40.625 48.1875 47.75 41.5 \nQ 54.890625 34.8125 54.890625 23.390625 \nQ 54.890625 11.625 47.5625 5.09375 \nQ 40.234375 -1.421875 26.90625 -1.421875 \nQ 22.3125 -1.421875 17.546875 -0.640625 \nQ 12.796875 0.140625 7.71875 1.703125 \nL 7.71875 11.625 \nQ 12.109375 9.234375 16.796875 8.0625 \nQ 21.484375 6.890625 26.703125 6.890625 \nQ 35.15625 6.890625 40.078125 11.328125 \nQ 45.015625 15.765625 45.015625 23.390625 \nQ 45.015625 31 40.078125 35.4375 \nQ 35.15625 39.890625 26.703125 39.890625 \nQ 22.75 39.890625 18.8125 39.015625 \nQ 14.890625 38.140625 10.796875 36.28125 \nz\n\" id=\"DejaVuSans-53\"/>\n     <path d=\"M 40.578125 39.3125 \nQ 47.65625 37.796875 51.625 33 \nQ 55.609375 28.21875 55.609375 21.1875 \nQ 55.609375 10.40625 48.1875 4.484375 \nQ 40.765625 -1.421875 27.09375 -1.421875 \nQ 22.515625 -1.421875 17.65625 -0.515625 \nQ 12.796875 0.390625 7.625 2.203125 \nL 7.625 11.71875 \nQ 11.71875 9.328125 16.59375 8.109375 \nQ 21.484375 6.890625 26.8125 6.890625 \nQ 36.078125 6.890625 40.9375 10.546875 \nQ 45.796875 14.203125 45.796875 21.1875 \nQ 45.796875 27.640625 41.28125 31.265625 \nQ 36.765625 34.90625 28.71875 34.90625 \nL 20.21875 34.90625 \nL 20.21875 43.015625 \nL 29.109375 43.015625 \nQ 36.375 43.015625 40.234375 45.921875 \nQ 44.09375 48.828125 44.09375 54.296875 \nQ 44.09375 59.90625 40.109375 62.90625 \nQ 36.140625 65.921875 28.71875 65.921875 \nQ 24.65625 65.921875 20.015625 65.03125 \nQ 15.375 64.15625 9.8125 62.3125 \nL 9.8125 71.09375 \nQ 15.4375 72.65625 20.34375 73.4375 \nQ 25.25 74.21875 29.59375 74.21875 \nQ 40.828125 74.21875 47.359375 69.109375 \nQ 53.90625 64.015625 53.90625 55.328125 \nQ 53.90625 49.265625 50.4375 45.09375 \nQ 46.96875 40.921875 40.578125 39.3125 \nz\n\" id=\"DejaVuSans-51\"/>\n    </defs>\n    <g style=\"fill:#262626;\" transform=\"translate(388.334313 75.035)scale(0.16 -0.16)\">\n     <use xlink:href=\"#DejaVuSans-49\"/>\n     <use x=\"63.623047\" xlink:href=\"#DejaVuSans-53\"/>\n     <use x=\"127.246094\" xlink:href=\"#DejaVuSans-51\"/>\n    </g>\n   </g>\n   <g id=\"text_10\">\n    <!-- 179 -->\n    <g style=\"fill:#262626;\" transform=\"translate(90.734313 201.875)scale(0.16 -0.16)\">\n     <use xlink:href=\"#DejaVuSans-49\"/>\n     <use x=\"63.623047\" xlink:href=\"#DejaVuSans-55\"/>\n     <use x=\"127.246094\" xlink:href=\"#DejaVuSans-57\"/>\n    </g>\n   </g>\n   <g id=\"text_11\">\n    <!-- 798 -->\n    <defs>\n     <path d=\"M 31.78125 34.625 \nQ 24.75 34.625 20.71875 30.859375 \nQ 16.703125 27.09375 16.703125 20.515625 \nQ 16.703125 13.921875 20.71875 10.15625 \nQ 24.75 6.390625 31.78125 6.390625 \nQ 38.8125 6.390625 42.859375 10.171875 \nQ 46.921875 13.96875 46.921875 20.515625 \nQ 46.921875 27.09375 42.890625 30.859375 \nQ 38.875 34.625 31.78125 34.625 \nz\nM 21.921875 38.8125 \nQ 15.578125 40.375 12.03125 44.71875 \nQ 8.5 49.078125 8.5 55.328125 \nQ 8.5 64.0625 14.71875 69.140625 \nQ 20.953125 74.21875 31.78125 74.21875 \nQ 42.671875 74.21875 48.875 69.140625 \nQ 55.078125 64.0625 55.078125 55.328125 \nQ 55.078125 49.078125 51.53125 44.71875 \nQ 48 40.375 41.703125 38.8125 \nQ 48.828125 37.15625 52.796875 32.3125 \nQ 56.78125 27.484375 56.78125 20.515625 \nQ 56.78125 9.90625 50.3125 4.234375 \nQ 43.84375 -1.421875 31.78125 -1.421875 \nQ 19.734375 -1.421875 13.25 4.234375 \nQ 6.78125 9.90625 6.78125 20.515625 \nQ 6.78125 27.484375 10.78125 32.3125 \nQ 14.796875 37.15625 21.921875 38.8125 \nz\nM 18.3125 54.390625 \nQ 18.3125 48.734375 21.84375 45.5625 \nQ 25.390625 42.390625 31.78125 42.390625 \nQ 38.140625 42.390625 41.71875 45.5625 \nQ 45.3125 48.734375 45.3125 54.390625 \nQ 45.3125 60.0625 41.71875 63.234375 \nQ 38.140625 66.40625 31.78125 66.40625 \nQ 25.390625 66.40625 21.84375 63.234375 \nQ 18.3125 60.0625 18.3125 54.390625 \nz\n\" id=\"DejaVuSans-56\"/>\n    </defs>\n    <g style=\"fill:#ffffff;\" transform=\"translate(239.534313 201.875)scale(0.16 -0.16)\">\n     <use xlink:href=\"#DejaVuSans-55\"/>\n     <use x=\"63.623047\" xlink:href=\"#DejaVuSans-57\"/>\n     <use x=\"127.246094\" xlink:href=\"#DejaVuSans-56\"/>\n    </g>\n   </g>\n   <g id=\"text_12\">\n    <!-- 97 -->\n    <g style=\"fill:#262626;\" transform=\"translate(393.424312 201.875)scale(0.16 -0.16)\">\n     <use xlink:href=\"#DejaVuSans-57\"/>\n     <use x=\"63.623047\" xlink:href=\"#DejaVuSans-55\"/>\n    </g>\n   </g>\n   <g id=\"text_13\">\n    <!-- 83 -->\n    <g style=\"fill:#262626;\" transform=\"translate(95.824313 328.715)scale(0.16 -0.16)\">\n     <use xlink:href=\"#DejaVuSans-56\"/>\n     <use x=\"63.623047\" xlink:href=\"#DejaVuSans-51\"/>\n    </g>\n   </g>\n   <g id=\"text_14\">\n    <!-- 98 -->\n    <g style=\"fill:#262626;\" transform=\"translate(244.624313 328.715)scale(0.16 -0.16)\">\n     <use xlink:href=\"#DejaVuSans-57\"/>\n     <use x=\"63.623047\" xlink:href=\"#DejaVuSans-56\"/>\n    </g>\n   </g>\n   <g id=\"text_15\">\n    <!-- 1019 -->\n    <defs>\n     <path d=\"M 31.78125 66.40625 \nQ 24.171875 66.40625 20.328125 58.90625 \nQ 16.5 51.421875 16.5 36.375 \nQ 16.5 21.390625 20.328125 13.890625 \nQ 24.171875 6.390625 31.78125 6.390625 \nQ 39.453125 6.390625 43.28125 13.890625 \nQ 47.125 21.390625 47.125 36.375 \nQ 47.125 51.421875 43.28125 58.90625 \nQ 39.453125 66.40625 31.78125 66.40625 \nz\nM 31.78125 74.21875 \nQ 44.046875 74.21875 50.515625 64.515625 \nQ 56.984375 54.828125 56.984375 36.375 \nQ 56.984375 17.96875 50.515625 8.265625 \nQ 44.046875 -1.421875 31.78125 -1.421875 \nQ 19.53125 -1.421875 13.0625 8.265625 \nQ 6.59375 17.96875 6.59375 36.375 \nQ 6.59375 54.828125 13.0625 64.515625 \nQ 19.53125 74.21875 31.78125 74.21875 \nz\n\" id=\"DejaVuSans-48\"/>\n    </defs>\n    <g style=\"fill:#ffffff;\" transform=\"translate(383.244312 328.715)scale(0.16 -0.16)\">\n     <use xlink:href=\"#DejaVuSans-49\"/>\n     <use x=\"63.623047\" xlink:href=\"#DejaVuSans-48\"/>\n     <use x=\"127.246094\" xlink:href=\"#DejaVuSans-49\"/>\n     <use x=\"190.869141\" xlink:href=\"#DejaVuSans-57\"/>\n    </g>\n   </g>\n  </g>\n  <g id=\"axes_2\">\n   <g id=\"patch_3\">\n    <path clip-path=\"url(#p8e539879a7)\" d=\"M 505.904313 387.72 \nL 505.904313 324.3 \nL 505.904313 70.62 \nL 505.904313 7.2 \nL 524.930313 7.2 \nL 524.930313 70.62 \nL 524.930313 324.3 \nL 524.930313 387.72 \nz\n\" style=\"fill:#eaeaf2;stroke:#eaeaf2;stroke-linejoin:miter;stroke-width:0.01;\"/>\n   </g>\n   <g id=\"matplotlib.axis_3\"/>\n   <g id=\"matplotlib.axis_4\">\n    <g id=\"ytick_4\">\n     <g id=\"line2d_1\">\n      <defs>\n       <path d=\"M 0 0 \nL 6 0 \n\" id=\"ma0bfdf09db\" style=\"stroke:#262626;stroke-width:1.25;\"/>\n      </defs>\n      <g>\n       <use style=\"fill:#262626;stroke:#262626;stroke-width:1.25;\" x=\"524.930313\" xlink:href=\"#ma0bfdf09db\" y=\"340.155\"/>\n      </g>\n     </g>\n     <g id=\"text_16\">\n      <!-- 200 -->\n      <defs>\n       <path d=\"M 19.1875 8.296875 \nL 53.609375 8.296875 \nL 53.609375 0 \nL 7.328125 0 \nL 7.328125 8.296875 \nQ 12.9375 14.109375 22.625 23.890625 \nQ 32.328125 33.6875 34.8125 36.53125 \nQ 39.546875 41.84375 41.421875 45.53125 \nQ 43.3125 49.21875 43.3125 52.78125 \nQ 43.3125 58.59375 39.234375 62.25 \nQ 35.15625 65.921875 28.609375 65.921875 \nQ 23.96875 65.921875 18.8125 64.3125 \nQ 13.671875 62.703125 7.8125 59.421875 \nL 7.8125 69.390625 \nQ 13.765625 71.78125 18.9375 73 \nQ 24.125 74.21875 28.421875 74.21875 \nQ 39.75 74.21875 46.484375 68.546875 \nQ 53.21875 62.890625 53.21875 53.421875 \nQ 53.21875 48.921875 51.53125 44.890625 \nQ 49.859375 40.875 45.40625 35.40625 \nQ 44.1875 33.984375 37.640625 27.21875 \nQ 31.109375 20.453125 19.1875 8.296875 \nz\n\" id=\"DejaVuSans-50\"/>\n      </defs>\n      <g style=\"fill:#262626;\" transform=\"translate(534.430313 346.005797)scale(0.154 -0.154)\">\n       <use xlink:href=\"#DejaVuSans-50\"/>\n       <use x=\"63.623047\" xlink:href=\"#DejaVuSans-48\"/>\n       <use x=\"127.246094\" xlink:href=\"#DejaVuSans-48\"/>\n      </g>\n     </g>\n    </g>\n    <g id=\"ytick_5\">\n     <g id=\"line2d_2\">\n      <g>\n       <use style=\"fill:#262626;stroke:#262626;stroke-width:1.25;\" x=\"524.930313\" xlink:href=\"#ma0bfdf09db\" y=\"258.847308\"/>\n      </g>\n     </g>\n     <g id=\"text_17\">\n      <!-- 400 -->\n      <defs>\n       <path d=\"M 37.796875 64.3125 \nL 12.890625 25.390625 \nL 37.796875 25.390625 \nz\nM 35.203125 72.90625 \nL 47.609375 72.90625 \nL 47.609375 25.390625 \nL 58.015625 25.390625 \nL 58.015625 17.1875 \nL 47.609375 17.1875 \nL 47.609375 0 \nL 37.796875 0 \nL 37.796875 17.1875 \nL 4.890625 17.1875 \nL 4.890625 26.703125 \nz\n\" id=\"DejaVuSans-52\"/>\n      </defs>\n      <g style=\"fill:#262626;\" transform=\"translate(534.430313 264.698105)scale(0.154 -0.154)\">\n       <use xlink:href=\"#DejaVuSans-52\"/>\n       <use x=\"63.623047\" xlink:href=\"#DejaVuSans-48\"/>\n       <use x=\"127.246094\" xlink:href=\"#DejaVuSans-48\"/>\n      </g>\n     </g>\n    </g>\n    <g id=\"ytick_6\">\n     <g id=\"line2d_3\">\n      <g>\n       <use style=\"fill:#262626;stroke:#262626;stroke-width:1.25;\" x=\"524.930313\" xlink:href=\"#ma0bfdf09db\" y=\"177.539615\"/>\n      </g>\n     </g>\n     <g id=\"text_18\">\n      <!-- 600 -->\n      <g style=\"fill:#262626;\" transform=\"translate(534.430313 183.390412)scale(0.154 -0.154)\">\n       <use xlink:href=\"#DejaVuSans-54\"/>\n       <use x=\"63.623047\" xlink:href=\"#DejaVuSans-48\"/>\n       <use x=\"127.246094\" xlink:href=\"#DejaVuSans-48\"/>\n      </g>\n     </g>\n    </g>\n    <g id=\"ytick_7\">\n     <g id=\"line2d_4\">\n      <g>\n       <use style=\"fill:#262626;stroke:#262626;stroke-width:1.25;\" x=\"524.930313\" xlink:href=\"#ma0bfdf09db\" y=\"96.231923\"/>\n      </g>\n     </g>\n     <g id=\"text_19\">\n      <!-- 800 -->\n      <g style=\"fill:#262626;\" transform=\"translate(534.430313 102.08272)scale(0.154 -0.154)\">\n       <use xlink:href=\"#DejaVuSans-56\"/>\n       <use x=\"63.623047\" xlink:href=\"#DejaVuSans-48\"/>\n       <use x=\"127.246094\" xlink:href=\"#DejaVuSans-48\"/>\n      </g>\n     </g>\n    </g>\n    <g id=\"ytick_8\">\n     <g id=\"line2d_5\">\n      <g>\n       <use style=\"fill:#262626;stroke:#262626;stroke-width:1.25;\" x=\"524.930313\" xlink:href=\"#ma0bfdf09db\" y=\"14.924231\"/>\n      </g>\n     </g>\n     <g id=\"text_20\">\n      <!-- 1000 -->\n      <g style=\"fill:#262626;\" transform=\"translate(534.430313 20.775028)scale(0.154 -0.154)\">\n       <use xlink:href=\"#DejaVuSans-49\"/>\n       <use x=\"63.623047\" xlink:href=\"#DejaVuSans-48\"/>\n       <use x=\"127.246094\" xlink:href=\"#DejaVuSans-48\"/>\n       <use x=\"190.869141\" xlink:href=\"#DejaVuSans-48\"/>\n      </g>\n     </g>\n    </g>\n   </g>\n   <g id=\"QuadMesh_2\">\n    <path clip-path=\"url(#p8e539879a7)\" d=\"M 505.904313 387.72 \nL 524.930313 387.72 \nL 524.930313 324.3 \nL 505.904313 324.3 \nL 505.904313 387.72 \n\" style=\"fill:#f0f1f2;\"/>\n    <path clip-path=\"url(#p8e539879a7)\" d=\"M 505.904313 324.3 \nL 524.930313 324.3 \nL 524.930313 260.88 \nL 505.904313 260.88 \nL 505.904313 324.3 \n\" style=\"fill:#cfd7e5;\"/>\n    <path clip-path=\"url(#p8e539879a7)\" d=\"M 505.904313 260.88 \nL 524.930313 260.88 \nL 524.930313 197.46 \nL 505.904313 197.46 \nL 505.904313 260.88 \n\" style=\"fill:#aebed8;\"/>\n    <path clip-path=\"url(#p8e539879a7)\" d=\"M 505.904313 197.46 \nL 524.930313 197.46 \nL 524.930313 134.04 \nL 505.904313 134.04 \nL 505.904313 197.46 \n\" style=\"fill:#8ea5ca;\"/>\n    <path clip-path=\"url(#p8e539879a7)\" d=\"M 505.904313 134.04 \nL 524.930313 134.04 \nL 524.930313 70.62 \nL 505.904313 70.62 \nL 505.904313 134.04 \n\" style=\"fill:#6d8bbd;\"/>\n    <path clip-path=\"url(#p8e539879a7)\" d=\"M 505.904313 70.62 \nL 524.930313 70.62 \nL 524.930313 7.2 \nL 505.904313 7.2 \nL 505.904313 70.62 \n\" style=\"fill:#4c72b0;\"/>\n   </g>\n   <g id=\"patch_4\">\n    <path d=\"M 505.904313 387.72 \nL 505.904313 324.3 \nL 505.904313 70.62 \nL 505.904313 7.2 \nL 524.930313 7.2 \nL 524.930313 70.62 \nL 524.930313 324.3 \nL 524.930313 387.72 \nz\n\" style=\"fill:none;\"/>\n   </g>\n  </g>\n </g>\n <defs>\n  <clipPath id=\"pbd0c6503f7\">\n   <rect height=\"380.52\" width=\"446.4\" x=\"31.604313\" y=\"7.2\"/>\n  </clipPath>\n  <clipPath id=\"p8e539879a7\">\n   <rect height=\"380.52\" width=\"19.026\" x=\"505.904313\" y=\"7.2\"/>\n  </clipPath>\n </defs>\n</svg>\n",
      "image/png": "[encoded data removed]"
     },
     "metadata": {}
    }
   ],
   "source": [
    "import seaborn as sn\n",
    "import pandas as pd\n",
    "import matplotlib.pyplot as plt\n",
    "\n",
    "# array = [[882, 104, 134],\n",
    "#          [176, 785, 113],\n",
    "#          [42, 56, 1102]]\n",
    "# array = [[926, 81, 113],\n",
    "#          [116, 905, 53],\n",
    "#          [30, 36, 1134]]\n",
    "array = [[791, 176, 153],\n",
    "         [179, 798, 97],\n",
    "         [83, 98, 1019]]\n",
    "# array = [[209,   0,   0,   8],\n",
    "#          [  0,  157, 76,  26],\n",
    "#          [  0,  44,  109,  29],\n",
    "#          [  11,   0,  24, 158]]\n",
    "\n",
    "# (\"negative\", \"neutral\", \"positive\")(\"neutral\", \"sad\", \"fear\", \"happy\")\n",
    "# cmap = sns.color_palette(\"rocket_r\")\n",
    "cmap = sns.color_palette(\"light:b\")\n",
    "\n",
    "df_cm = pd.DataFrame(array, index = [i for i in (\"negative\", \"neutral\", \"positive\")],\n",
    "                  columns = [i for i in (\"negative\", \"neutral\", \"positive\")])\n",
    "plt.figure(figsize=(10,7))\n",
    "sn.set(font_scale=1.4) # for label size\n",
    "sn.heatmap(df_cm, annot=True, annot_kws={\"size\": 16}, cmap=cmap, fmt='g') # font size\n",
    "\n",
    "plt.show()"
   ]
  },
  {
   "cell_type": "code",
   "execution_count": null,
   "metadata": {},
   "outputs": [],
   "source": []
  }
 ]
}